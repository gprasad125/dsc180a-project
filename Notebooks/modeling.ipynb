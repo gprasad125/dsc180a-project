{
 "cells": [
  {
   "cell_type": "code",
   "execution_count": 2,
   "id": "6c7ffb92",
   "metadata": {},
   "outputs": [],
   "source": [
    "import pandas as pd\n",
    "import numpy as np\n",
    "import re\n",
    "import plotly.express as px\n",
    "\n",
    "from sklearn.pipeline import Pipeline\n",
    "from sklearn.model_selection import train_test_split\n",
    "from sklearn.tree import DecisionTreeClassifier\n",
    "from sklearn.svm import SVC\n",
    "from sklearn.feature_extraction.text import TfidfVectorizer\n",
    "from sklearn.metrics import confusion_matrix"
   ]
  },
  {
   "cell_type": "markdown",
   "id": "221a1764",
   "metadata": {},
   "source": [
    "# Model 1:\n",
    "\n",
    "## Can we determine if a particular tweet is relevant to China or not ? "
   ]
  },
  {
   "cell_type": "markdown",
   "id": "528eb36a",
   "metadata": {},
   "source": [
    "### Data Preparation\n",
    "\n",
    "Firstly, we need to remove useless columns (ids) and drop any rows who have a NaN value in the Bucket column since that is our target variable. We also can convert Bucket to a boolean column for ease of understanding by making a new column marking if a row is in Bucket 1 or not. "
   ]
  },
  {
   "cell_type": "code",
   "execution_count": 8,
   "id": "eba9f830",
   "metadata": {
    "scrolled": true
   },
   "outputs": [
    {
     "data": {
      "text/plain": [
       "'The CCP should take note. Asia is fed up with territorial breaches in the South China Sea. Canada &amp; Australia suspended extradition treaties with Hong Kong. The U.K. canceled Huawei over Chinese spying. @POTUS &amp; @SecPompeo continue to hold Beijing accountable.'"
      ]
     },
     "execution_count": 8,
     "metadata": {},
     "output_type": "execute_result"
    }
   ],
   "source": [
    "df = pd.read_csv(\"../Data/sampleData.csv\")\n",
    "df = df[df[\"country\"] == \"China\"]\n",
    "\n",
    "df[df[\"SentimentScore\"] > 3.0]['text'][15418]\n",
    "# df.dropna(subset = [\"Bucket\"])\n",
    "# df[\"Relevant\"] = df[\"Bucket\"].apply(lambda x: x == \"1\")\n",
    "# df = df[[\"text\", \"Relevant\"]]\n",
    "# df.head()"
   ]
  },
  {
   "cell_type": "code",
   "execution_count": 3,
   "id": "490eb76a",
   "metadata": {},
   "outputs": [],
   "source": [
    "def text_cleaning(text):\n",
    "    \n",
    "    text = text.lower()\n",
    "    text = re.sub('[^A-Za-z0-9\\s]', '', text)\n",
    "    return text\n",
    "\n",
    "df['text'] = df['text'].apply(text_cleaning)"
   ]
  },
  {
   "cell_type": "markdown",
   "id": "dc6d7ec2",
   "metadata": {},
   "source": [
    "### Modeling\n",
    "\n",
    "We can also determine our x (feature) and y (target) variables early on as well. "
   ]
  },
  {
   "cell_type": "code",
   "execution_count": 4,
   "id": "df2ea6c8",
   "metadata": {},
   "outputs": [],
   "source": [
    "x = df['text']\n",
    "y = df['Relevant']\n",
    "\n",
    "x_train, x_test, y_train, y_test = train_test_split(x, y, test_size = 0.2, random_state = 42, shuffle = True)"
   ]
  },
  {
   "cell_type": "code",
   "execution_count": 5,
   "id": "49303287",
   "metadata": {},
   "outputs": [
    {
     "data": {
      "text/plain": [
       "Pipeline(steps=[('tfidf', TfidfVectorizer()), ('svm', SVC())])"
      ]
     },
     "execution_count": 5,
     "metadata": {},
     "output_type": "execute_result"
    }
   ],
   "source": [
    "dt_classifier = Pipeline([('tfidf', TfidfVectorizer()), ('clf', DecisionTreeClassifier())])\n",
    "svm_classifier = Pipeline([('tfidf', TfidfVectorizer()), ('svm', SVC())])\n",
    "\n",
    "dt_classifier.fit(x_train, y_train)\n",
    "svm_classifier.fit(x_train, y_train)"
   ]
  },
  {
   "cell_type": "code",
   "execution_count": 6,
   "id": "a031b806",
   "metadata": {},
   "outputs": [
    {
     "data": {
      "text/plain": [
       "[0.692429022082019, 0.7867507886435331]"
      ]
     },
     "execution_count": 6,
     "metadata": {},
     "output_type": "execute_result"
    }
   ],
   "source": [
    "# dt \n",
    "preds_dt = dt_classifier.predict(x_test)\n",
    "acc_dt = (preds_dt == y_test).mean()\n",
    "\n",
    "# svc \n",
    "preds_svm = svm_classifier.predict(x_test)\n",
    "acc_svm = (preds_svm == y_test).mean()\n",
    "\n",
    "[acc_dt, acc_svm]"
   ]
  },
  {
   "cell_type": "code",
   "execution_count": 7,
   "id": "cd149f03",
   "metadata": {},
   "outputs": [
    {
     "data": {
      "text/plain": [
       "array([[ 491,  492],\n",
       "       [ 483, 1704]])"
      ]
     },
     "execution_count": 7,
     "metadata": {},
     "output_type": "execute_result"
    }
   ],
   "source": [
    "confusion_matrix(preds_dt, y_test)"
   ]
  },
  {
   "cell_type": "code",
   "execution_count": 8,
   "id": "b1c31046",
   "metadata": {},
   "outputs": [
    {
     "data": {
      "text/plain": [
       "array([[ 455,  157],\n",
       "       [ 519, 2039]])"
      ]
     },
     "execution_count": 8,
     "metadata": {},
     "output_type": "execute_result"
    }
   ],
   "source": [
    "confusion_matrix(preds_svm, y_test)"
   ]
  }
 ],
 "metadata": {
  "kernelspec": {
   "display_name": "Python 3 (ipykernel)",
   "language": "python",
   "name": "python3"
  },
  "language_info": {
   "codemirror_mode": {
    "name": "ipython",
    "version": 3
   },
   "file_extension": ".py",
   "mimetype": "text/x-python",
   "name": "python",
   "nbconvert_exporter": "python",
   "pygments_lexer": "ipython3",
   "version": "3.8.2"
  }
 },
 "nbformat": 4,
 "nbformat_minor": 5
}
