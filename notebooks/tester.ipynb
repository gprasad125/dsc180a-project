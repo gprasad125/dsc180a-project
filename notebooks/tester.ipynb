{
 "cells": [
  {
   "cell_type": "code",
   "execution_count": 1,
   "metadata": {},
   "outputs": [],
   "source": [
    "import pandas as pd\n",
    "\n",
    "url = \"../data/raw/raw.csv\"\n",
    "df = pd.read_csv(url)"
   ]
  },
  {
   "cell_type": "code",
   "execution_count": 3,
   "metadata": {},
   "outputs": [
    {
     "data": {
      "text/html": [
       "<div>\n",
       "<style scoped>\n",
       "    .dataframe tbody tr th:only-of-type {\n",
       "        vertical-align: middle;\n",
       "    }\n",
       "\n",
       "    .dataframe tbody tr th {\n",
       "        vertical-align: top;\n",
       "    }\n",
       "\n",
       "    .dataframe thead th {\n",
       "        text-align: right;\n",
       "    }\n",
       "</style>\n",
       "<table border=\"1\" class=\"dataframe\">\n",
       "  <thead>\n",
       "    <tr style=\"text-align: right;\">\n",
       "      <th></th>\n",
       "      <th>date</th>\n",
       "      <th>text</th>\n",
       "      <th>userid_str</th>\n",
       "      <th>status_id_str</th>\n",
       "      <th>id</th>\n",
       "      <th>name</th>\n",
       "      <th>birth</th>\n",
       "      <th>term_partisanship</th>\n",
       "      <th>term_type</th>\n",
       "      <th>term_state</th>\n",
       "      <th>country</th>\n",
       "      <th>Bucket</th>\n",
       "      <th>SentimentScore</th>\n",
       "      <th>version</th>\n",
       "    </tr>\n",
       "  </thead>\n",
       "  <tbody>\n",
       "    <tr>\n",
       "      <th>0</th>\n",
       "      <td>2015-09-28</td>\n",
       "      <td>I commend all of law enforcement for the secur...</td>\n",
       "      <td>156333623.0</td>\n",
       "      <td>6.485341e+17</td>\n",
       "      <td>3517566</td>\n",
       "      <td>Al Green</td>\n",
       "      <td>1947-09-01</td>\n",
       "      <td>Democrat</td>\n",
       "      <td>rep</td>\n",
       "      <td>TX</td>\n",
       "      <td>China</td>\n",
       "      <td>2 or 3</td>\n",
       "      <td>NaN</td>\n",
       "      <td>2019_batch1</td>\n",
       "    </tr>\n",
       "    <tr>\n",
       "      <th>1</th>\n",
       "      <td>2019-02-24</td>\n",
       "      <td>Socialist tyrant Maduro starves, tortures his ...</td>\n",
       "      <td>235312723.0</td>\n",
       "      <td>1.099734e+18</td>\n",
       "      <td>3559992</td>\n",
       "      <td>Scott DesJarlais</td>\n",
       "      <td>1964-02-21</td>\n",
       "      <td>Republican</td>\n",
       "      <td>rep</td>\n",
       "      <td>TN</td>\n",
       "      <td>China</td>\n",
       "      <td>1</td>\n",
       "      <td>2.0</td>\n",
       "      <td>2019_batch1</td>\n",
       "    </tr>\n",
       "  </tbody>\n",
       "</table>\n",
       "</div>"
      ],
      "text/plain": [
       "         date                                               text   userid_str  \\\n",
       "0  2015-09-28  I commend all of law enforcement for the secur...  156333623.0   \n",
       "1  2019-02-24  Socialist tyrant Maduro starves, tortures his ...  235312723.0   \n",
       "\n",
       "   status_id_str       id              name       birth term_partisanship  \\\n",
       "0   6.485341e+17  3517566          Al Green  1947-09-01          Democrat   \n",
       "1   1.099734e+18  3559992  Scott DesJarlais  1964-02-21        Republican   \n",
       "\n",
       "  term_type term_state country  Bucket  SentimentScore      version  \n",
       "0       rep         TX   China  2 or 3             NaN  2019_batch1  \n",
       "1       rep         TN   China       1             2.0  2019_batch1  "
      ]
     },
     "execution_count": 3,
     "metadata": {},
     "output_type": "execute_result"
    }
   ],
   "source": [
    "df.head(2)"
   ]
  },
  {
   "cell_type": "code",
   "execution_count": 5,
   "metadata": {},
   "outputs": [],
   "source": [
    "# imports\n",
    "import pandas as pd\n",
    "import re\n",
    "from nltk.corpus import stopwords\n",
    "from nltk.tokenize import word_tokenize\n",
    "\n",
    "\n",
    "############################################\n",
    "\n",
    "# User Defined Cleaning Functions\n",
    "\n",
    "def clean_state(state):\n",
    "    if pd.isnull(state) == False:\n",
    "        if \"{\" in state:\n",
    "            state = state[1:-1]\n",
    "    else:\n",
    "        state = \"Unknown\"\n",
    "\n",
    "    return state\n",
    "\n",
    "def get_year(bday):\n",
    "\n",
    "    if not pd.isnull(bday):\n",
    "\n",
    "        return int(bday[0:4])\n",
    "\n",
    "stop_words = set(stopwords.words('english'))\n",
    "\n",
    "def text_cleaning(text):\n",
    "    \n",
    "    text = text.lower()\n",
    "    text = re.sub('[^A-Za-z0-9\\s]', '', text)\n",
    "    tokens = [x for x in word_tokenize(text) if x not in stop_words]\n",
    "    reshape_text = \" \".join(tokens)\n",
    "    return reshape_text\n",
    "\n",
    "def handle_score(score):\n",
    "    \n",
    "    if pd.isnull(score):\n",
    "        return score\n",
    "    \n",
    "    score = int(score)\n",
    "        \n",
    "    if score > 5.0:\n",
    "        score = 5.0\n",
    "    elif score < 1.0:\n",
    "        score = 1.0\n",
    "        \n",
    "    return score\n",
    "\n",
    "############################################\n",
    "\n",
    "def make_dataset(inpath, outpath):\n",
    "\n",
    "    # read in filepath RELATIVE to run.py\n",
    "    df = pd.read_csv(inpath)\n",
    "\n",
    "    # add or reshape columns using lambdas & UDFs\n",
    "    df[\"year\"] = df[\"birth\"].apply(get_year)\n",
    "    # df[\"term_partisanship\"] = df[\"term_partisanship\"].apply(clean_state)\n",
    "    # df[\"term_state\"] = df[\"term_state\"].apply(clean_state)\n",
    "    # df[\"posted\"] = df[\"date\"].apply(lambda x: int(x[0:4]))\n",
    "    # df[\"age_when_posted\"] = df[\"posted\"] - df[\"year\"]\n",
    "    # df['text'] = df['text'].apply(text_cleaning)\n",
    "    # df['relevant'] = df['Bucket'].apply(lambda bkt: bkt == \"1\")\n",
    "    # df['score'] = df['SentimentScore'].apply(handle_score)\n",
    "\n",
    "    # drop unneeded columns\n",
    "    df.drop(\n",
    "        columns = [\n",
    "            \"userid_str\", \"status_id_str\", \"id\", \"Bucket\", \"SentimentScore\", \n",
    "        ],\n",
    "        inplace = True,\n",
    "        errors = 'ignore'\n",
    "    )\n",
    "\n",
    "    # convert cleaned DataFrame to csv\n",
    "    df.to_csv(outpath, index = False)\n"
   ]
  },
  {
   "cell_type": "code",
   "execution_count": 8,
   "metadata": {},
   "outputs": [
    {
     "ename": "TypeError",
     "evalue": "'float' object is not subscriptable",
     "output_type": "error",
     "traceback": [
      "\u001b[0;31m---------------------------------------------------------------------------\u001b[0m",
      "\u001b[0;31mTypeError\u001b[0m                                 Traceback (most recent call last)",
      "Cell \u001b[0;32mIn [8], line 1\u001b[0m\n\u001b[0;32m----> 1\u001b[0m df[\u001b[38;5;124m\"\u001b[39m\u001b[38;5;124myear\u001b[39m\u001b[38;5;124m\"\u001b[39m] \u001b[38;5;241m=\u001b[39m \u001b[43mdf\u001b[49m\u001b[43m[\u001b[49m\u001b[38;5;124;43m\"\u001b[39;49m\u001b[38;5;124;43mbirth\u001b[39;49m\u001b[38;5;124;43m\"\u001b[39;49m\u001b[43m]\u001b[49m\u001b[38;5;241;43m.\u001b[39;49m\u001b[43mapply\u001b[49m\u001b[43m(\u001b[49m\u001b[38;5;28;43;01mlambda\u001b[39;49;00m\u001b[43m \u001b[49m\u001b[43mx\u001b[49m\u001b[43m:\u001b[49m\u001b[43m \u001b[49m\u001b[38;5;28;43mint\u001b[39;49m\u001b[43m(\u001b[49m\u001b[43mx\u001b[49m\u001b[43m[\u001b[49m\u001b[38;5;241;43m0\u001b[39;49m\u001b[43m:\u001b[49m\u001b[38;5;241;43m4\u001b[39;49m\u001b[43m]\u001b[49m\u001b[43m)\u001b[49m\u001b[43m)\u001b[49m\n",
      "File \u001b[0;32m~/dsc180a-project/env/lib/python3.8/site-packages/pandas/core/series.py:4771\u001b[0m, in \u001b[0;36mSeries.apply\u001b[0;34m(self, func, convert_dtype, args, **kwargs)\u001b[0m\n\u001b[1;32m   <a href='file:///Users/gokul/dsc180a-project/env/lib/python3.8/site-packages/pandas/core/series.py?line=4660'>4661</a>\u001b[0m \u001b[39mdef\u001b[39;00m \u001b[39mapply\u001b[39m(\n\u001b[1;32m   <a href='file:///Users/gokul/dsc180a-project/env/lib/python3.8/site-packages/pandas/core/series.py?line=4661'>4662</a>\u001b[0m     \u001b[39mself\u001b[39m,\n\u001b[1;32m   <a href='file:///Users/gokul/dsc180a-project/env/lib/python3.8/site-packages/pandas/core/series.py?line=4662'>4663</a>\u001b[0m     func: AggFuncType,\n\u001b[0;32m   (...)\u001b[0m\n\u001b[1;32m   <a href='file:///Users/gokul/dsc180a-project/env/lib/python3.8/site-packages/pandas/core/series.py?line=4665'>4666</a>\u001b[0m     \u001b[39m*\u001b[39m\u001b[39m*\u001b[39mkwargs,\n\u001b[1;32m   <a href='file:///Users/gokul/dsc180a-project/env/lib/python3.8/site-packages/pandas/core/series.py?line=4666'>4667</a>\u001b[0m ) \u001b[39m-\u001b[39m\u001b[39m>\u001b[39m DataFrame \u001b[39m|\u001b[39m Series:\n\u001b[1;32m   <a href='file:///Users/gokul/dsc180a-project/env/lib/python3.8/site-packages/pandas/core/series.py?line=4667'>4668</a>\u001b[0m     \u001b[39m\"\"\"\u001b[39;00m\n\u001b[1;32m   <a href='file:///Users/gokul/dsc180a-project/env/lib/python3.8/site-packages/pandas/core/series.py?line=4668'>4669</a>\u001b[0m \u001b[39m    Invoke function on values of Series.\u001b[39;00m\n\u001b[1;32m   <a href='file:///Users/gokul/dsc180a-project/env/lib/python3.8/site-packages/pandas/core/series.py?line=4669'>4670</a>\u001b[0m \n\u001b[0;32m   (...)\u001b[0m\n\u001b[1;32m   <a href='file:///Users/gokul/dsc180a-project/env/lib/python3.8/site-packages/pandas/core/series.py?line=4768'>4769</a>\u001b[0m \u001b[39m    dtype: float64\u001b[39;00m\n\u001b[1;32m   <a href='file:///Users/gokul/dsc180a-project/env/lib/python3.8/site-packages/pandas/core/series.py?line=4769'>4770</a>\u001b[0m \u001b[39m    \"\"\"\u001b[39;00m\n\u001b[0;32m-> <a href='file:///Users/gokul/dsc180a-project/env/lib/python3.8/site-packages/pandas/core/series.py?line=4770'>4771</a>\u001b[0m     \u001b[39mreturn\u001b[39;00m SeriesApply(\u001b[39mself\u001b[39;49m, func, convert_dtype, args, kwargs)\u001b[39m.\u001b[39;49mapply()\n",
      "File \u001b[0;32m~/dsc180a-project/env/lib/python3.8/site-packages/pandas/core/apply.py:1105\u001b[0m, in \u001b[0;36mSeriesApply.apply\u001b[0;34m(self)\u001b[0m\n\u001b[1;32m   <a href='file:///Users/gokul/dsc180a-project/env/lib/python3.8/site-packages/pandas/core/apply.py?line=1101'>1102</a>\u001b[0m     \u001b[39mreturn\u001b[39;00m \u001b[39mself\u001b[39m\u001b[39m.\u001b[39mapply_str()\n\u001b[1;32m   <a href='file:///Users/gokul/dsc180a-project/env/lib/python3.8/site-packages/pandas/core/apply.py?line=1103'>1104</a>\u001b[0m \u001b[39m# self.f is Callable\u001b[39;00m\n\u001b[0;32m-> <a href='file:///Users/gokul/dsc180a-project/env/lib/python3.8/site-packages/pandas/core/apply.py?line=1104'>1105</a>\u001b[0m \u001b[39mreturn\u001b[39;00m \u001b[39mself\u001b[39;49m\u001b[39m.\u001b[39;49mapply_standard()\n",
      "File \u001b[0;32m~/dsc180a-project/env/lib/python3.8/site-packages/pandas/core/apply.py:1156\u001b[0m, in \u001b[0;36mSeriesApply.apply_standard\u001b[0;34m(self)\u001b[0m\n\u001b[1;32m   <a href='file:///Users/gokul/dsc180a-project/env/lib/python3.8/site-packages/pandas/core/apply.py?line=1153'>1154</a>\u001b[0m     \u001b[39melse\u001b[39;00m:\n\u001b[1;32m   <a href='file:///Users/gokul/dsc180a-project/env/lib/python3.8/site-packages/pandas/core/apply.py?line=1154'>1155</a>\u001b[0m         values \u001b[39m=\u001b[39m obj\u001b[39m.\u001b[39mastype(\u001b[39mobject\u001b[39m)\u001b[39m.\u001b[39m_values\n\u001b[0;32m-> <a href='file:///Users/gokul/dsc180a-project/env/lib/python3.8/site-packages/pandas/core/apply.py?line=1155'>1156</a>\u001b[0m         mapped \u001b[39m=\u001b[39m lib\u001b[39m.\u001b[39;49mmap_infer(\n\u001b[1;32m   <a href='file:///Users/gokul/dsc180a-project/env/lib/python3.8/site-packages/pandas/core/apply.py?line=1156'>1157</a>\u001b[0m             values,\n\u001b[1;32m   <a href='file:///Users/gokul/dsc180a-project/env/lib/python3.8/site-packages/pandas/core/apply.py?line=1157'>1158</a>\u001b[0m             f,\n\u001b[1;32m   <a href='file:///Users/gokul/dsc180a-project/env/lib/python3.8/site-packages/pandas/core/apply.py?line=1158'>1159</a>\u001b[0m             convert\u001b[39m=\u001b[39;49m\u001b[39mself\u001b[39;49m\u001b[39m.\u001b[39;49mconvert_dtype,\n\u001b[1;32m   <a href='file:///Users/gokul/dsc180a-project/env/lib/python3.8/site-packages/pandas/core/apply.py?line=1159'>1160</a>\u001b[0m         )\n\u001b[1;32m   <a href='file:///Users/gokul/dsc180a-project/env/lib/python3.8/site-packages/pandas/core/apply.py?line=1161'>1162</a>\u001b[0m \u001b[39mif\u001b[39;00m \u001b[39mlen\u001b[39m(mapped) \u001b[39mand\u001b[39;00m \u001b[39misinstance\u001b[39m(mapped[\u001b[39m0\u001b[39m], ABCSeries):\n\u001b[1;32m   <a href='file:///Users/gokul/dsc180a-project/env/lib/python3.8/site-packages/pandas/core/apply.py?line=1162'>1163</a>\u001b[0m     \u001b[39m# GH#43986 Need to do list(mapped) in order to get treated as nested\u001b[39;00m\n\u001b[1;32m   <a href='file:///Users/gokul/dsc180a-project/env/lib/python3.8/site-packages/pandas/core/apply.py?line=1163'>1164</a>\u001b[0m     \u001b[39m#  See also GH#25959 regarding EA support\u001b[39;00m\n\u001b[1;32m   <a href='file:///Users/gokul/dsc180a-project/env/lib/python3.8/site-packages/pandas/core/apply.py?line=1164'>1165</a>\u001b[0m     \u001b[39mreturn\u001b[39;00m obj\u001b[39m.\u001b[39m_constructor_expanddim(\u001b[39mlist\u001b[39m(mapped), index\u001b[39m=\u001b[39mobj\u001b[39m.\u001b[39mindex)\n",
      "File \u001b[0;32m~/dsc180a-project/env/lib/python3.8/site-packages/pandas/_libs/lib.pyx:2918\u001b[0m, in \u001b[0;36mpandas._libs.lib.map_infer\u001b[0;34m()\u001b[0m\n",
      "Cell \u001b[0;32mIn [8], line 1\u001b[0m, in \u001b[0;36m<lambda>\u001b[0;34m(x)\u001b[0m\n\u001b[0;32m----> 1\u001b[0m df[\u001b[38;5;124m\"\u001b[39m\u001b[38;5;124myear\u001b[39m\u001b[38;5;124m\"\u001b[39m] \u001b[38;5;241m=\u001b[39m df[\u001b[38;5;124m\"\u001b[39m\u001b[38;5;124mbirth\u001b[39m\u001b[38;5;124m\"\u001b[39m]\u001b[38;5;241m.\u001b[39mapply(\u001b[38;5;28;01mlambda\u001b[39;00m x: \u001b[38;5;28mint\u001b[39m(\u001b[43mx\u001b[49m\u001b[43m[\u001b[49m\u001b[38;5;241;43m0\u001b[39;49m\u001b[43m:\u001b[49m\u001b[38;5;241;43m4\u001b[39;49m\u001b[43m]\u001b[49m))\n",
      "\u001b[0;31mTypeError\u001b[0m: 'float' object is not subscriptable"
     ]
    }
   ],
   "source": [
    "df[\"year\"] = df[\"birth\"].apply(lambda x: int(x[0:4]))"
   ]
  },
  {
   "cell_type": "code",
   "execution_count": 11,
   "metadata": {},
   "outputs": [
    {
     "data": {
      "text/plain": [
       "'1947'"
      ]
     },
     "execution_count": 11,
     "metadata": {},
     "output_type": "execute_result"
    }
   ],
   "source": [
    "df['birth'][0][0:4]"
   ]
  },
  {
   "cell_type": "code",
   "execution_count": null,
   "metadata": {},
   "outputs": [],
   "source": []
  }
 ],
 "metadata": {
  "interpreter": {
   "hash": "a433cb42acc0b06d46ffe0212c786e9b81435630195bf62772d24b64696b0724"
  },
  "kernelspec": {
   "display_name": "Python 3.8.2 ('env': venv)",
   "language": "python",
   "name": "python3"
  },
  "language_info": {
   "codemirror_mode": {
    "name": "ipython",
    "version": 3
   },
   "file_extension": ".py",
   "mimetype": "text/x-python",
   "name": "python",
   "nbconvert_exporter": "python",
   "pygments_lexer": "ipython3",
   "version": "3.8.2"
  },
  "orig_nbformat": 4
 },
 "nbformat": 4,
 "nbformat_minor": 2
}
