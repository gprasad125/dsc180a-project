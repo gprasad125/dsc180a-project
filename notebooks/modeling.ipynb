{
 "cells": [
  {
   "cell_type": "markdown",
   "id": "89ef2c31",
   "metadata": {},
   "source": [
    "## Imports"
   ]
  },
  {
   "cell_type": "code",
   "execution_count": 2,
   "id": "6c7ffb92",
   "metadata": {},
   "outputs": [],
   "source": [
    "# notebook imports\n",
    "import warnings\n",
    "\n",
    "# Baseline imports \n",
    "import pandas as pd\n",
    "import numpy as np\n",
    "import re\n",
    "import seaborn as sns\n",
    "\n",
    "# Preprocessing\n",
    "from nltk.corpus import stopwords\n",
    "from nltk.tokenize import sent_tokenize, word_tokenize\n",
    "\n",
    "# Modeling \n",
    "from sklearn.pipeline import Pipeline\n",
    "from sklearn.model_selection import train_test_split, GridSearchCV\n",
    "from sklearn.tree import DecisionTreeClassifier\n",
    "from sklearn.svm import SVC\n",
    "from sklearn.feature_extraction.text import TfidfVectorizer\n",
    "from sklearn.metrics import confusion_matrix, precision_score, recall_score\n",
    "from sklearn.neighbors import KNeighborsClassifier, KNeighborsRegressor\n",
    "\n",
    "warnings.filterwarnings(\"ignore\")"
   ]
  },
  {
   "cell_type": "markdown",
   "id": "528eb36a",
   "metadata": {},
   "source": [
    "## Data Preparation\n",
    "\n",
    "Firstly, we need to remove useless columns (ids) and drop any rows who have a NaN value in the Bucket column since that is our target variable. We also can convert Bucket to a boolean column for ease of understanding by making a new column marking if a row is in Bucket 1 or not. "
   ]
  },
  {
   "cell_type": "code",
   "execution_count": 4,
   "id": "eba9f830",
   "metadata": {
    "scrolled": false
   },
   "outputs": [
    {
     "data": {
      "text/html": [
       "<div>\n",
       "<style scoped>\n",
       "    .dataframe tbody tr th:only-of-type {\n",
       "        vertical-align: middle;\n",
       "    }\n",
       "\n",
       "    .dataframe tbody tr th {\n",
       "        vertical-align: top;\n",
       "    }\n",
       "\n",
       "    .dataframe thead th {\n",
       "        text-align: right;\n",
       "    }\n",
       "</style>\n",
       "<table border=\"1\" class=\"dataframe\">\n",
       "  <thead>\n",
       "    <tr style=\"text-align: right;\">\n",
       "      <th></th>\n",
       "      <th>text</th>\n",
       "      <th>Bucket</th>\n",
       "      <th>SentimentScore</th>\n",
       "    </tr>\n",
       "  </thead>\n",
       "  <tbody>\n",
       "    <tr>\n",
       "      <th>0</th>\n",
       "      <td>Socialist tyrant Maduro starves, tortures his ...</td>\n",
       "      <td>1</td>\n",
       "      <td>2.0</td>\n",
       "    </tr>\n",
       "    <tr>\n",
       "      <th>2</th>\n",
       "      <td>Russia, China, India, Pakistan, North Korea, I...</td>\n",
       "      <td>1</td>\n",
       "      <td>2.0</td>\n",
       "    </tr>\n",
       "    <tr>\n",
       "      <th>3</th>\n",
       "      <td>Ileana Ros-Lehtinen, Ted Yoho Condemn China's ...</td>\n",
       "      <td>1</td>\n",
       "      <td>1.5</td>\n",
       "    </tr>\n",
       "    <tr>\n",
       "      <th>5</th>\n",
       "      <td>BREAKING: In Oval Office meeting today, the Ch...</td>\n",
       "      <td>1</td>\n",
       "      <td>4.5</td>\n",
       "    </tr>\n",
       "    <tr>\n",
       "      <th>6</th>\n",
       "      <td>BREAKING: In Oval Office meeting today, the Ch...</td>\n",
       "      <td>1</td>\n",
       "      <td>4.0</td>\n",
       "    </tr>\n",
       "  </tbody>\n",
       "</table>\n",
       "</div>"
      ],
      "text/plain": [
       "                                                text Bucket  SentimentScore\n",
       "0  Socialist tyrant Maduro starves, tortures his ...      1             2.0\n",
       "2  Russia, China, India, Pakistan, North Korea, I...      1             2.0\n",
       "3  Ileana Ros-Lehtinen, Ted Yoho Condemn China's ...      1             1.5\n",
       "5  BREAKING: In Oval Office meeting today, the Ch...      1             4.5\n",
       "6  BREAKING: In Oval Office meeting today, the Ch...      1             4.0"
      ]
     },
     "execution_count": 4,
     "metadata": {},
     "output_type": "execute_result"
    }
   ],
   "source": [
    "df = pd.read_csv(\"../data/out/out.csv\")\n",
    "df = df[df[\"country\"] == \"China\"]\n",
    "df = df[[\"text\", \"Bucket\", \"SentimentScore\"]]\n",
    "df.head()"
   ]
  },
  {
   "cell_type": "code",
   "execution_count": 5,
   "id": "490eb76a",
   "metadata": {},
   "outputs": [
    {
     "data": {
      "text/html": [
       "<div>\n",
       "<style scoped>\n",
       "    .dataframe tbody tr th:only-of-type {\n",
       "        vertical-align: middle;\n",
       "    }\n",
       "\n",
       "    .dataframe tbody tr th {\n",
       "        vertical-align: top;\n",
       "    }\n",
       "\n",
       "    .dataframe thead th {\n",
       "        text-align: right;\n",
       "    }\n",
       "</style>\n",
       "<table border=\"1\" class=\"dataframe\">\n",
       "  <thead>\n",
       "    <tr style=\"text-align: right;\">\n",
       "      <th></th>\n",
       "      <th>text</th>\n",
       "      <th>relevant</th>\n",
       "      <th>score</th>\n",
       "    </tr>\n",
       "  </thead>\n",
       "  <tbody>\n",
       "    <tr>\n",
       "      <th>0</th>\n",
       "      <td>socialist tyrant maduro starves tortures peopl...</td>\n",
       "      <td>True</td>\n",
       "      <td>2.0</td>\n",
       "    </tr>\n",
       "    <tr>\n",
       "      <th>1</th>\n",
       "      <td>russia china india pakistan north korea iran m...</td>\n",
       "      <td>True</td>\n",
       "      <td>2.0</td>\n",
       "    </tr>\n",
       "    <tr>\n",
       "      <th>2</th>\n",
       "      <td>ileana roslehtinen ted yoho condemn chinas tre...</td>\n",
       "      <td>True</td>\n",
       "      <td>1.0</td>\n",
       "    </tr>\n",
       "    <tr>\n",
       "      <th>3</th>\n",
       "      <td>breaking oval office meeting today chinese com...</td>\n",
       "      <td>True</td>\n",
       "      <td>4.0</td>\n",
       "    </tr>\n",
       "    <tr>\n",
       "      <th>4</th>\n",
       "      <td>breaking oval office meeting today chinese com...</td>\n",
       "      <td>True</td>\n",
       "      <td>4.0</td>\n",
       "    </tr>\n",
       "  </tbody>\n",
       "</table>\n",
       "</div>"
      ],
      "text/plain": [
       "                                                text  relevant  score\n",
       "0  socialist tyrant maduro starves tortures peopl...      True    2.0\n",
       "1  russia china india pakistan north korea iran m...      True    2.0\n",
       "2  ileana roslehtinen ted yoho condemn chinas tre...      True    1.0\n",
       "3  breaking oval office meeting today chinese com...      True    4.0\n",
       "4  breaking oval office meeting today chinese com...      True    4.0"
      ]
     },
     "execution_count": 5,
     "metadata": {},
     "output_type": "execute_result"
    }
   ],
   "source": [
    "stop_words = set(stopwords.words('english'))\n",
    "\n",
    "def text_cleaning(text):\n",
    "    \n",
    "    text = text.lower()\n",
    "    text = re.sub('[^A-Za-z0-9\\s]', '', text)\n",
    "    tokens = [x for x in word_tokenize(text) if x not in stop_words]\n",
    "    reshape_text = \" \".join(tokens)\n",
    "    return reshape_text\n",
    "\n",
    "def handle_score(score):\n",
    "    \n",
    "    if pd.isnull(score):\n",
    "        return score\n",
    "    \n",
    "    score = int(score)\n",
    "        \n",
    "    if score > 5.0:\n",
    "        score = 5.0\n",
    "    elif score < 1.0:\n",
    "        score = 1.0\n",
    "        \n",
    "    return score\n",
    "\n",
    "df['text'] = df['text'].apply(text_cleaning)\n",
    "df['relevant'] = df['Bucket'].apply(lambda bkt: bkt == \"1\")\n",
    "df['score'] = df['SentimentScore'].apply(handle_score)\n",
    "\n",
    "df.drop(columns = [\"Bucket\", \"SentimentScore\"], inplace = True, errors = \"ignore\")\n",
    "df.reset_index(inplace = True, drop = True)\n",
    "df.head()"
   ]
  },
  {
   "cell_type": "markdown",
   "id": "dc6d7ec2",
   "metadata": {},
   "source": [
    "# Model 1:\n",
    "\n",
    "## Can we determine if a particular tweet is relevant to China or not ? \n",
    "\n",
    "We can also determine our x (feature) and y (target) variables early on as well. "
   ]
  },
  {
   "cell_type": "code",
   "execution_count": 4,
   "id": "df2ea6c8",
   "metadata": {},
   "outputs": [],
   "source": [
    "x = df['text']\n",
    "y = df['relevant']\n",
    "\n",
    "x_train, x_test, y_train, y_test = train_test_split(x, y, test_size = 0.2, random_state = 42, shuffle = True)"
   ]
  },
  {
   "cell_type": "code",
   "execution_count": 5,
   "id": "f10a5fd2",
   "metadata": {},
   "outputs": [
    {
     "data": {
      "text/plain": [
       "(2425,)"
      ]
     },
     "execution_count": 5,
     "metadata": {},
     "output_type": "execute_result"
    }
   ],
   "source": [
    "x_test.shape"
   ]
  },
  {
   "cell_type": "code",
   "execution_count": 6,
   "id": "49303287",
   "metadata": {},
   "outputs": [
    {
     "data": {
      "text/plain": [
       "Pipeline(steps=[('tfidf', TfidfVectorizer()), ('clf', KNeighborsClassifier())])"
      ]
     },
     "execution_count": 6,
     "metadata": {},
     "output_type": "execute_result"
    }
   ],
   "source": [
    "dt_classifier = Pipeline([('tfidf', TfidfVectorizer()), ('clf', DecisionTreeClassifier())])\n",
    "svm_classifier = Pipeline([('tfidf', TfidfVectorizer()), ('svm', SVC())])\n",
    "knn_classifier = Pipeline([('tfidf', TfidfVectorizer()), ('clf', KNeighborsClassifier())])\n",
    "\n",
    "dt_classifier.fit(x_train, y_train)\n",
    "svm_classifier.fit(x_train, y_train)\n",
    "knn_classifier.fit(x_train, y_train)"
   ]
  },
  {
   "cell_type": "code",
   "execution_count": 36,
   "id": "a031b806",
   "metadata": {},
   "outputs": [],
   "source": [
    "def get_stats(guess, true, mc):\n",
    "    \n",
    "    if mc:\n",
    "        average = 'macro'\n",
    "    else:\n",
    "        average = 'binary'\n",
    "    \n",
    "    acc = (guess == true).mean()\n",
    "    precision = precision_score(true, guess, average = average)\n",
    "    recall = recall_score(true, guess, average = average)\n",
    "    f1 = (2 * precision * recall) / (precision + recall)\n",
    "    \n",
    "    return acc, precision, recall, f1\n",
    "\n",
    "# dt \n",
    "preds_dt = dt_classifier.predict(x_test)\n",
    "cm_dt = confusion_matrix(y_test, preds_dt)\n",
    "\n",
    "# svc \n",
    "preds_svm = svm_classifier.predict(x_test)\n",
    "cm_svm = confusion_matrix(y_test, preds_svm)\n",
    "\n",
    "# knn\n",
    "preds_knn = knn_classifier.predict(x_test)\n",
    "cm_knn = confusion_matrix(y_test, preds_knn)"
   ]
  },
  {
   "cell_type": "markdown",
   "id": "beb99058",
   "metadata": {},
   "source": [
    "### Results\n",
    "\n",
    "Let's visualize the classification strength of these models.\n",
    "\n",
    "Firstly, the `DecisionTreeClassifier()`"
   ]
  },
  {
   "cell_type": "code",
   "execution_count": 8,
   "id": "ee4d5277",
   "metadata": {},
   "outputs": [
    {
     "data": {
      "text/plain": [
       "<AxesSubplot: >"
      ]
     },
     "execution_count": 8,
     "metadata": {},
     "output_type": "execute_result"
    },
    {
     "data": {
      "image/png": "[encoded data removed]",
      "text/plain": [
       "<Figure size 432x288 with 2 Axes>"
      ]
     },
     "metadata": {
      "needs_background": "light"
     },
     "output_type": "display_data"
    }
   ],
   "source": [
    "sns.heatmap(cm_dt, cmap = \"Blues\", annot = True, fmt = \"1\")"
   ]
  },
  {
   "cell_type": "markdown",
   "id": "3790cb49",
   "metadata": {},
   "source": [
    "Next, the `SVM()`"
   ]
  },
  {
   "cell_type": "code",
   "execution_count": 9,
   "id": "54088685",
   "metadata": {},
   "outputs": [
    {
     "data": {
      "text/plain": [
       "<AxesSubplot: >"
      ]
     },
     "execution_count": 9,
     "metadata": {},
     "output_type": "execute_result"
    },
    {
     "data": {
      "image/png": "[encoded data removed]",
      "text/plain": [
       "<Figure size 432x288 with 2 Axes>"
      ]
     },
     "metadata": {
      "needs_background": "light"
     },
     "output_type": "display_data"
    }
   ],
   "source": [
    "sns.heatmap(cm_svm, cmap = \"Blues\", annot = True, fmt = \"1\")"
   ]
  },
  {
   "cell_type": "markdown",
   "id": "4ace13eb",
   "metadata": {},
   "source": [
    "Next, the `KNeighborsClassifier()`"
   ]
  },
  {
   "cell_type": "code",
   "execution_count": 10,
   "id": "9eabfc76",
   "metadata": {},
   "outputs": [
    {
     "data": {
      "text/plain": [
       "<AxesSubplot: >"
      ]
     },
     "execution_count": 10,
     "metadata": {},
     "output_type": "execute_result"
    },
    {
     "data": {
      "image/png": "[encoded data removed]",
      "text/plain": [
       "<Figure size 432x288 with 2 Axes>"
      ]
     },
     "metadata": {
      "needs_background": "light"
     },
     "output_type": "display_data"
    }
   ],
   "source": [
    "sns.heatmap(cm_knn, cmap = \"Blues\", annot = True, fmt = \"1\")"
   ]
  },
  {
   "cell_type": "markdown",
   "id": "7f52c40d",
   "metadata": {},
   "source": [
    "Let's also get the summary statistics from our models: accuracy, precision, & recall."
   ]
  },
  {
   "cell_type": "code",
   "execution_count": 11,
   "id": "f8d9de41",
   "metadata": {},
   "outputs": [
    {
     "data": {
      "text/plain": [
       "[(0.6989690721649484,\n",
       "  0.7926008968609866,\n",
       "  0.7970687711386697,\n",
       "  0.7948285553681844),\n",
       " (0.7826804123711341,\n",
       "  0.7887911069939787,\n",
       "  0.9599774520856821,\n",
       "  0.8660055936943808),\n",
       " (0.7661855670103093,\n",
       "  0.7974371611631346,\n",
       "  0.9120631341600902,\n",
       "  0.8509071785432554)]"
      ]
     },
     "execution_count": 11,
     "metadata": {},
     "output_type": "execute_result"
    }
   ],
   "source": [
    "measures = [get_stats(preds_dt, y_test), get_stats(preds_svm, y_test), get_stats(preds_knn, y_test)]\n",
    "measures"
   ]
  },
  {
   "cell_type": "markdown",
   "id": "a643e8ec",
   "metadata": {},
   "source": [
    "### Hyperparameter Tuning\n",
    "\n",
    "#### 1. Decision Tree Classifier"
   ]
  },
  {
   "cell_type": "code",
   "execution_count": 12,
   "id": "209aa790",
   "metadata": {},
   "outputs": [
    {
     "name": "stdout",
     "output_type": "stream",
     "text": [
      "Fitting 5 folds for each of 80 candidates, totalling 400 fits\n"
     ]
    },
    {
     "data": {
      "text/plain": [
       "GridSearchCV(estimator=Pipeline(steps=[('tfidf', TfidfVectorizer()),\n",
       "                                       ('clf', DecisionTreeClassifier())]),\n",
       "             param_grid={'clf__max_depth': [4, 5, 6, 7, 8],\n",
       "                         'clf__min_samples_leaf': [2, 3, 5, 7],\n",
       "                         'clf__min_samples_split': [2, 3, 5, 7]},\n",
       "             verbose=1)"
      ]
     },
     "execution_count": 12,
     "metadata": {},
     "output_type": "execute_result"
    }
   ],
   "source": [
    "parameters = {'clf__min_samples_split':[2,3,5,7], 'clf__min_samples_leaf':[2,3,5,7], 'clf__max_depth':[4,5,6,7,8]}\n",
    "model = Pipeline([('tfidf', TfidfVectorizer()), ('clf', DecisionTreeClassifier())])\n",
    "\n",
    "tuner = GridSearchCV(model, parameters, verbose = 1)\n",
    "tuner.fit(x_train, y_train)"
   ]
  },
  {
   "cell_type": "code",
   "execution_count": 13,
   "id": "5f50c487",
   "metadata": {},
   "outputs": [
    {
     "data": {
      "text/plain": [
       "{'clf__max_depth': 4, 'clf__min_samples_leaf': 7, 'clf__min_samples_split': 2}"
      ]
     },
     "execution_count": 13,
     "metadata": {},
     "output_type": "execute_result"
    }
   ],
   "source": [
    "tuner.best_params_"
   ]
  },
  {
   "cell_type": "code",
   "execution_count": 14,
   "id": "c19312dc",
   "metadata": {},
   "outputs": [
    {
     "data": {
      "text/plain": [
       "Pipeline(steps=[('tfidf', TfidfVectorizer()),\n",
       "                ('clf',\n",
       "                 DecisionTreeClassifier(max_depth=4, min_samples_leaf=7))])"
      ]
     },
     "execution_count": 14,
     "metadata": {},
     "output_type": "execute_result"
    }
   ],
   "source": [
    "opt_dt_model = Pipeline([('tfidf', TfidfVectorizer()), ('clf', \n",
    "    DecisionTreeClassifier(max_depth= 4, min_samples_leaf = 7, min_samples_split = 2))])\n",
    "\n",
    "opt_dt_model.fit(x_train, y_train)"
   ]
  },
  {
   "cell_type": "code",
   "execution_count": 15,
   "id": "e5f2c252",
   "metadata": {
    "scrolled": true
   },
   "outputs": [
    {
     "data": {
      "text/plain": [
       "(0.734020618556701, 0.7358963643961555, 0.9926719278466741, 0.8452123830093593)"
      ]
     },
     "execution_count": 15,
     "metadata": {},
     "output_type": "execute_result"
    }
   ],
   "source": [
    "new_preds_dt = opt_dt_model.predict(x_test)\n",
    "get_stats(new_preds_dt, y_test)"
   ]
  },
  {
   "cell_type": "markdown",
   "id": "af8cbecc",
   "metadata": {},
   "source": [
    "#### 2. Support Vector Classifier"
   ]
  },
  {
   "cell_type": "code",
   "execution_count": 17,
   "id": "638e82b2",
   "metadata": {},
   "outputs": [
    {
     "name": "stdout",
     "output_type": "stream",
     "text": [
      "Fitting 5 folds for each of 14 candidates, totalling 70 fits\n"
     ]
    },
    {
     "data": {
      "text/plain": [
       "GridSearchCV(estimator=Pipeline(steps=[('tfidf', TfidfVectorizer()),\n",
       "                                       ('clf', SVC())]),\n",
       "             param_grid={'clf__C': [0.001, 0.01, 0.1, 1, 3, 5, 10],\n",
       "                         'clf__gamma': ['scale', 'auto']},\n",
       "             verbose=1)"
      ]
     },
     "execution_count": 17,
     "metadata": {},
     "output_type": "execute_result"
    }
   ],
   "source": [
    "parameters = {\n",
    "    'clf__C': [0.001, 0.01, 0.1, 1, 3, 5, 10],\n",
    "    'clf__gamma': ['scale', 'auto'],\n",
    "    #'clf__kernel': ['linear', 'rbf', 'sigmoid']\n",
    "}\n",
    "\n",
    "model = Pipeline([('tfidf', TfidfVectorizer()), ('clf', SVC())])\n",
    "tuner = GridSearchCV(model, parameters, verbose = 1)\n",
    "tuner.fit(x_train, y_train)"
   ]
  },
  {
   "cell_type": "code",
   "execution_count": 18,
   "id": "ab879338",
   "metadata": {},
   "outputs": [
    {
     "data": {
      "text/plain": [
       "{'clf__C': 5, 'clf__gamma': 'scale'}"
      ]
     },
     "execution_count": 18,
     "metadata": {},
     "output_type": "execute_result"
    }
   ],
   "source": [
    "tuner.best_params_"
   ]
  },
  {
   "cell_type": "code",
   "execution_count": 19,
   "id": "fa3e5829",
   "metadata": {},
   "outputs": [
    {
     "data": {
      "text/plain": [
       "Pipeline(steps=[('tfidf', TfidfVectorizer()), ('clf', SVC(C=5))])"
      ]
     },
     "execution_count": 19,
     "metadata": {},
     "output_type": "execute_result"
    }
   ],
   "source": [
    "opt_svm_model = Pipeline([('tfidf', TfidfVectorizer()), ('clf', SVC(C = 5, gamma = 'scale'))])\n",
    "opt_svm_model.fit(x_train, y_train)"
   ]
  },
  {
   "cell_type": "code",
   "execution_count": 20,
   "id": "b3e7d7bb",
   "metadata": {},
   "outputs": [
    {
     "data": {
      "text/plain": [
       "(0.7843298969072164,\n",
       " 0.8055691255495847,\n",
       " 0.9295377677564826,\n",
       " 0.8631248364302538)"
      ]
     },
     "execution_count": 20,
     "metadata": {},
     "output_type": "execute_result"
    }
   ],
   "source": [
    "new_preds_svm = opt_svm_model.predict(x_test)\n",
    "get_stats(new_preds_svm, y_test)"
   ]
  },
  {
   "cell_type": "markdown",
   "id": "e64ca322",
   "metadata": {},
   "source": [
    "#### 3. K Nearest Neighbors "
   ]
  },
  {
   "cell_type": "code",
   "execution_count": 26,
   "id": "7cdaf8ba",
   "metadata": {},
   "outputs": [
    {
     "name": "stdout",
     "output_type": "stream",
     "text": [
      "Fitting 5 folds for each of 56 candidates, totalling 280 fits\n"
     ]
    },
    {
     "name": "stderr",
     "output_type": "stream",
     "text": [
      "/Users/gokul/opt/anaconda3/lib/python3.8/site-packages/sklearn/neighbors/_base.py:504: UserWarning: cannot use tree with sparse input: using brute force\n",
      "  warnings.warn(\"cannot use tree with sparse input: using brute force\")\n",
      "/Users/gokul/opt/anaconda3/lib/python3.8/site-packages/sklearn/neighbors/_base.py:504: UserWarning: cannot use tree with sparse input: using brute force\n",
      "  warnings.warn(\"cannot use tree with sparse input: using brute force\")\n",
      "/Users/gokul/opt/anaconda3/lib/python3.8/site-packages/sklearn/neighbors/_base.py:504: UserWarning: cannot use tree with sparse input: using brute force\n",
      "  warnings.warn(\"cannot use tree with sparse input: using brute force\")\n",
      "/Users/gokul/opt/anaconda3/lib/python3.8/site-packages/sklearn/neighbors/_base.py:504: UserWarning: cannot use tree with sparse input: using brute force\n",
      "  warnings.warn(\"cannot use tree with sparse input: using brute force\")\n",
      "/Users/gokul/opt/anaconda3/lib/python3.8/site-packages/sklearn/neighbors/_base.py:504: UserWarning: cannot use tree with sparse input: using brute force\n",
      "  warnings.warn(\"cannot use tree with sparse input: using brute force\")\n",
      "/Users/gokul/opt/anaconda3/lib/python3.8/site-packages/sklearn/neighbors/_base.py:504: UserWarning: cannot use tree with sparse input: using brute force\n",
      "  warnings.warn(\"cannot use tree with sparse input: using brute force\")\n",
      "/Users/gokul/opt/anaconda3/lib/python3.8/site-packages/sklearn/neighbors/_base.py:504: UserWarning: cannot use tree with sparse input: using brute force\n",
      "  warnings.warn(\"cannot use tree with sparse input: using brute force\")\n",
      "/Users/gokul/opt/anaconda3/lib/python3.8/site-packages/sklearn/neighbors/_base.py:504: UserWarning: cannot use tree with sparse input: using brute force\n",
      "  warnings.warn(\"cannot use tree with sparse input: using brute force\")\n",
      "/Users/gokul/opt/anaconda3/lib/python3.8/site-packages/sklearn/neighbors/_base.py:504: UserWarning: cannot use tree with sparse input: using brute force\n",
      "  warnings.warn(\"cannot use tree with sparse input: using brute force\")\n",
      "/Users/gokul/opt/anaconda3/lib/python3.8/site-packages/sklearn/neighbors/_base.py:504: UserWarning: cannot use tree with sparse input: using brute force\n",
      "  warnings.warn(\"cannot use tree with sparse input: using brute force\")\n",
      "/Users/gokul/opt/anaconda3/lib/python3.8/site-packages/sklearn/neighbors/_base.py:504: UserWarning: cannot use tree with sparse input: using brute force\n",
      "  warnings.warn(\"cannot use tree with sparse input: using brute force\")\n",
      "/Users/gokul/opt/anaconda3/lib/python3.8/site-packages/sklearn/neighbors/_base.py:504: UserWarning: cannot use tree with sparse input: using brute force\n",
      "  warnings.warn(\"cannot use tree with sparse input: using brute force\")\n",
      "/Users/gokul/opt/anaconda3/lib/python3.8/site-packages/sklearn/neighbors/_base.py:504: UserWarning: cannot use tree with sparse input: using brute force\n",
      "  warnings.warn(\"cannot use tree with sparse input: using brute force\")\n",
      "/Users/gokul/opt/anaconda3/lib/python3.8/site-packages/sklearn/neighbors/_base.py:504: UserWarning: cannot use tree with sparse input: using brute force\n",
      "  warnings.warn(\"cannot use tree with sparse input: using brute force\")\n",
      "/Users/gokul/opt/anaconda3/lib/python3.8/site-packages/sklearn/neighbors/_base.py:504: UserWarning: cannot use tree with sparse input: using brute force\n",
      "  warnings.warn(\"cannot use tree with sparse input: using brute force\")\n",
      "/Users/gokul/opt/anaconda3/lib/python3.8/site-packages/sklearn/neighbors/_base.py:504: UserWarning: cannot use tree with sparse input: using brute force\n",
      "  warnings.warn(\"cannot use tree with sparse input: using brute force\")\n",
      "/Users/gokul/opt/anaconda3/lib/python3.8/site-packages/sklearn/neighbors/_base.py:504: UserWarning: cannot use tree with sparse input: using brute force\n",
      "  warnings.warn(\"cannot use tree with sparse input: using brute force\")\n",
      "/Users/gokul/opt/anaconda3/lib/python3.8/site-packages/sklearn/neighbors/_base.py:504: UserWarning: cannot use tree with sparse input: using brute force\n",
      "  warnings.warn(\"cannot use tree with sparse input: using brute force\")\n",
      "/Users/gokul/opt/anaconda3/lib/python3.8/site-packages/sklearn/neighbors/_base.py:504: UserWarning: cannot use tree with sparse input: using brute force\n",
      "  warnings.warn(\"cannot use tree with sparse input: using brute force\")\n",
      "/Users/gokul/opt/anaconda3/lib/python3.8/site-packages/sklearn/neighbors/_base.py:504: UserWarning: cannot use tree with sparse input: using brute force\n",
      "  warnings.warn(\"cannot use tree with sparse input: using brute force\")\n",
      "/Users/gokul/opt/anaconda3/lib/python3.8/site-packages/sklearn/neighbors/_base.py:504: UserWarning: cannot use tree with sparse input: using brute force\n",
      "  warnings.warn(\"cannot use tree with sparse input: using brute force\")\n",
      "/Users/gokul/opt/anaconda3/lib/python3.8/site-packages/sklearn/neighbors/_base.py:504: UserWarning: cannot use tree with sparse input: using brute force\n",
      "  warnings.warn(\"cannot use tree with sparse input: using brute force\")\n",
      "/Users/gokul/opt/anaconda3/lib/python3.8/site-packages/sklearn/neighbors/_base.py:504: UserWarning: cannot use tree with sparse input: using brute force\n",
      "  warnings.warn(\"cannot use tree with sparse input: using brute force\")\n",
      "/Users/gokul/opt/anaconda3/lib/python3.8/site-packages/sklearn/neighbors/_base.py:504: UserWarning: cannot use tree with sparse input: using brute force\n",
      "  warnings.warn(\"cannot use tree with sparse input: using brute force\")\n",
      "/Users/gokul/opt/anaconda3/lib/python3.8/site-packages/sklearn/neighbors/_base.py:504: UserWarning: cannot use tree with sparse input: using brute force\n",
      "  warnings.warn(\"cannot use tree with sparse input: using brute force\")\n",
      "/Users/gokul/opt/anaconda3/lib/python3.8/site-packages/sklearn/neighbors/_base.py:504: UserWarning: cannot use tree with sparse input: using brute force\n",
      "  warnings.warn(\"cannot use tree with sparse input: using brute force\")\n",
      "/Users/gokul/opt/anaconda3/lib/python3.8/site-packages/sklearn/neighbors/_base.py:504: UserWarning: cannot use tree with sparse input: using brute force\n",
      "  warnings.warn(\"cannot use tree with sparse input: using brute force\")\n",
      "/Users/gokul/opt/anaconda3/lib/python3.8/site-packages/sklearn/neighbors/_base.py:504: UserWarning: cannot use tree with sparse input: using brute force\n",
      "  warnings.warn(\"cannot use tree with sparse input: using brute force\")\n",
      "/Users/gokul/opt/anaconda3/lib/python3.8/site-packages/sklearn/neighbors/_base.py:504: UserWarning: cannot use tree with sparse input: using brute force\n",
      "  warnings.warn(\"cannot use tree with sparse input: using brute force\")\n",
      "/Users/gokul/opt/anaconda3/lib/python3.8/site-packages/sklearn/neighbors/_base.py:504: UserWarning: cannot use tree with sparse input: using brute force\n",
      "  warnings.warn(\"cannot use tree with sparse input: using brute force\")\n",
      "/Users/gokul/opt/anaconda3/lib/python3.8/site-packages/sklearn/neighbors/_base.py:504: UserWarning: cannot use tree with sparse input: using brute force\n",
      "  warnings.warn(\"cannot use tree with sparse input: using brute force\")\n",
      "/Users/gokul/opt/anaconda3/lib/python3.8/site-packages/sklearn/neighbors/_base.py:504: UserWarning: cannot use tree with sparse input: using brute force\n",
      "  warnings.warn(\"cannot use tree with sparse input: using brute force\")\n",
      "/Users/gokul/opt/anaconda3/lib/python3.8/site-packages/sklearn/neighbors/_base.py:504: UserWarning: cannot use tree with sparse input: using brute force\n",
      "  warnings.warn(\"cannot use tree with sparse input: using brute force\")\n",
      "/Users/gokul/opt/anaconda3/lib/python3.8/site-packages/sklearn/neighbors/_base.py:504: UserWarning: cannot use tree with sparse input: using brute force\n",
      "  warnings.warn(\"cannot use tree with sparse input: using brute force\")\n",
      "/Users/gokul/opt/anaconda3/lib/python3.8/site-packages/sklearn/neighbors/_base.py:504: UserWarning: cannot use tree with sparse input: using brute force\n",
      "  warnings.warn(\"cannot use tree with sparse input: using brute force\")\n",
      "/Users/gokul/opt/anaconda3/lib/python3.8/site-packages/sklearn/neighbors/_base.py:504: UserWarning: cannot use tree with sparse input: using brute force\n",
      "  warnings.warn(\"cannot use tree with sparse input: using brute force\")\n",
      "/Users/gokul/opt/anaconda3/lib/python3.8/site-packages/sklearn/neighbors/_base.py:504: UserWarning: cannot use tree with sparse input: using brute force\n",
      "  warnings.warn(\"cannot use tree with sparse input: using brute force\")\n"
     ]
    },
    {
     "name": "stderr",
     "output_type": "stream",
     "text": [
      "/Users/gokul/opt/anaconda3/lib/python3.8/site-packages/sklearn/neighbors/_base.py:504: UserWarning: cannot use tree with sparse input: using brute force\n",
      "  warnings.warn(\"cannot use tree with sparse input: using brute force\")\n",
      "/Users/gokul/opt/anaconda3/lib/python3.8/site-packages/sklearn/neighbors/_base.py:504: UserWarning: cannot use tree with sparse input: using brute force\n",
      "  warnings.warn(\"cannot use tree with sparse input: using brute force\")\n",
      "/Users/gokul/opt/anaconda3/lib/python3.8/site-packages/sklearn/neighbors/_base.py:504: UserWarning: cannot use tree with sparse input: using brute force\n",
      "  warnings.warn(\"cannot use tree with sparse input: using brute force\")\n",
      "/Users/gokul/opt/anaconda3/lib/python3.8/site-packages/sklearn/neighbors/_base.py:504: UserWarning: cannot use tree with sparse input: using brute force\n",
      "  warnings.warn(\"cannot use tree with sparse input: using brute force\")\n",
      "/Users/gokul/opt/anaconda3/lib/python3.8/site-packages/sklearn/neighbors/_base.py:504: UserWarning: cannot use tree with sparse input: using brute force\n",
      "  warnings.warn(\"cannot use tree with sparse input: using brute force\")\n",
      "/Users/gokul/opt/anaconda3/lib/python3.8/site-packages/sklearn/neighbors/_base.py:504: UserWarning: cannot use tree with sparse input: using brute force\n",
      "  warnings.warn(\"cannot use tree with sparse input: using brute force\")\n",
      "/Users/gokul/opt/anaconda3/lib/python3.8/site-packages/sklearn/neighbors/_base.py:504: UserWarning: cannot use tree with sparse input: using brute force\n",
      "  warnings.warn(\"cannot use tree with sparse input: using brute force\")\n",
      "/Users/gokul/opt/anaconda3/lib/python3.8/site-packages/sklearn/neighbors/_base.py:504: UserWarning: cannot use tree with sparse input: using brute force\n",
      "  warnings.warn(\"cannot use tree with sparse input: using brute force\")\n",
      "/Users/gokul/opt/anaconda3/lib/python3.8/site-packages/sklearn/neighbors/_base.py:504: UserWarning: cannot use tree with sparse input: using brute force\n",
      "  warnings.warn(\"cannot use tree with sparse input: using brute force\")\n",
      "/Users/gokul/opt/anaconda3/lib/python3.8/site-packages/sklearn/neighbors/_base.py:504: UserWarning: cannot use tree with sparse input: using brute force\n",
      "  warnings.warn(\"cannot use tree with sparse input: using brute force\")\n",
      "/Users/gokul/opt/anaconda3/lib/python3.8/site-packages/sklearn/neighbors/_base.py:504: UserWarning: cannot use tree with sparse input: using brute force\n",
      "  warnings.warn(\"cannot use tree with sparse input: using brute force\")\n",
      "/Users/gokul/opt/anaconda3/lib/python3.8/site-packages/sklearn/neighbors/_base.py:504: UserWarning: cannot use tree with sparse input: using brute force\n",
      "  warnings.warn(\"cannot use tree with sparse input: using brute force\")\n",
      "/Users/gokul/opt/anaconda3/lib/python3.8/site-packages/sklearn/neighbors/_base.py:504: UserWarning: cannot use tree with sparse input: using brute force\n",
      "  warnings.warn(\"cannot use tree with sparse input: using brute force\")\n",
      "/Users/gokul/opt/anaconda3/lib/python3.8/site-packages/sklearn/neighbors/_base.py:504: UserWarning: cannot use tree with sparse input: using brute force\n",
      "  warnings.warn(\"cannot use tree with sparse input: using brute force\")\n",
      "/Users/gokul/opt/anaconda3/lib/python3.8/site-packages/sklearn/neighbors/_base.py:504: UserWarning: cannot use tree with sparse input: using brute force\n",
      "  warnings.warn(\"cannot use tree with sparse input: using brute force\")\n",
      "/Users/gokul/opt/anaconda3/lib/python3.8/site-packages/sklearn/neighbors/_base.py:504: UserWarning: cannot use tree with sparse input: using brute force\n",
      "  warnings.warn(\"cannot use tree with sparse input: using brute force\")\n",
      "/Users/gokul/opt/anaconda3/lib/python3.8/site-packages/sklearn/neighbors/_base.py:504: UserWarning: cannot use tree with sparse input: using brute force\n",
      "  warnings.warn(\"cannot use tree with sparse input: using brute force\")\n",
      "/Users/gokul/opt/anaconda3/lib/python3.8/site-packages/sklearn/neighbors/_base.py:504: UserWarning: cannot use tree with sparse input: using brute force\n",
      "  warnings.warn(\"cannot use tree with sparse input: using brute force\")\n",
      "/Users/gokul/opt/anaconda3/lib/python3.8/site-packages/sklearn/neighbors/_base.py:504: UserWarning: cannot use tree with sparse input: using brute force\n",
      "  warnings.warn(\"cannot use tree with sparse input: using brute force\")\n",
      "/Users/gokul/opt/anaconda3/lib/python3.8/site-packages/sklearn/neighbors/_base.py:504: UserWarning: cannot use tree with sparse input: using brute force\n",
      "  warnings.warn(\"cannot use tree with sparse input: using brute force\")\n",
      "/Users/gokul/opt/anaconda3/lib/python3.8/site-packages/sklearn/neighbors/_base.py:504: UserWarning: cannot use tree with sparse input: using brute force\n",
      "  warnings.warn(\"cannot use tree with sparse input: using brute force\")\n",
      "/Users/gokul/opt/anaconda3/lib/python3.8/site-packages/sklearn/neighbors/_base.py:504: UserWarning: cannot use tree with sparse input: using brute force\n",
      "  warnings.warn(\"cannot use tree with sparse input: using brute force\")\n",
      "/Users/gokul/opt/anaconda3/lib/python3.8/site-packages/sklearn/neighbors/_base.py:504: UserWarning: cannot use tree with sparse input: using brute force\n",
      "  warnings.warn(\"cannot use tree with sparse input: using brute force\")\n",
      "/Users/gokul/opt/anaconda3/lib/python3.8/site-packages/sklearn/neighbors/_base.py:504: UserWarning: cannot use tree with sparse input: using brute force\n",
      "  warnings.warn(\"cannot use tree with sparse input: using brute force\")\n",
      "/Users/gokul/opt/anaconda3/lib/python3.8/site-packages/sklearn/neighbors/_base.py:504: UserWarning: cannot use tree with sparse input: using brute force\n",
      "  warnings.warn(\"cannot use tree with sparse input: using brute force\")\n",
      "/Users/gokul/opt/anaconda3/lib/python3.8/site-packages/sklearn/neighbors/_base.py:504: UserWarning: cannot use tree with sparse input: using brute force\n",
      "  warnings.warn(\"cannot use tree with sparse input: using brute force\")\n",
      "/Users/gokul/opt/anaconda3/lib/python3.8/site-packages/sklearn/neighbors/_base.py:504: UserWarning: cannot use tree with sparse input: using brute force\n",
      "  warnings.warn(\"cannot use tree with sparse input: using brute force\")\n",
      "/Users/gokul/opt/anaconda3/lib/python3.8/site-packages/sklearn/neighbors/_base.py:504: UserWarning: cannot use tree with sparse input: using brute force\n",
      "  warnings.warn(\"cannot use tree with sparse input: using brute force\")\n",
      "/Users/gokul/opt/anaconda3/lib/python3.8/site-packages/sklearn/neighbors/_base.py:504: UserWarning: cannot use tree with sparse input: using brute force\n",
      "  warnings.warn(\"cannot use tree with sparse input: using brute force\")\n",
      "/Users/gokul/opt/anaconda3/lib/python3.8/site-packages/sklearn/neighbors/_base.py:504: UserWarning: cannot use tree with sparse input: using brute force\n",
      "  warnings.warn(\"cannot use tree with sparse input: using brute force\")\n",
      "/Users/gokul/opt/anaconda3/lib/python3.8/site-packages/sklearn/neighbors/_base.py:504: UserWarning: cannot use tree with sparse input: using brute force\n",
      "  warnings.warn(\"cannot use tree with sparse input: using brute force\")\n",
      "/Users/gokul/opt/anaconda3/lib/python3.8/site-packages/sklearn/neighbors/_base.py:504: UserWarning: cannot use tree with sparse input: using brute force\n",
      "  warnings.warn(\"cannot use tree with sparse input: using brute force\")\n",
      "/Users/gokul/opt/anaconda3/lib/python3.8/site-packages/sklearn/neighbors/_base.py:504: UserWarning: cannot use tree with sparse input: using brute force\n",
      "  warnings.warn(\"cannot use tree with sparse input: using brute force\")\n",
      "/Users/gokul/opt/anaconda3/lib/python3.8/site-packages/sklearn/neighbors/_base.py:504: UserWarning: cannot use tree with sparse input: using brute force\n",
      "  warnings.warn(\"cannot use tree with sparse input: using brute force\")\n",
      "/Users/gokul/opt/anaconda3/lib/python3.8/site-packages/sklearn/neighbors/_base.py:504: UserWarning: cannot use tree with sparse input: using brute force\n",
      "  warnings.warn(\"cannot use tree with sparse input: using brute force\")\n",
      "/Users/gokul/opt/anaconda3/lib/python3.8/site-packages/sklearn/neighbors/_base.py:504: UserWarning: cannot use tree with sparse input: using brute force\n",
      "  warnings.warn(\"cannot use tree with sparse input: using brute force\")\n",
      "/Users/gokul/opt/anaconda3/lib/python3.8/site-packages/sklearn/neighbors/_base.py:504: UserWarning: cannot use tree with sparse input: using brute force\n",
      "  warnings.warn(\"cannot use tree with sparse input: using brute force\")\n"
     ]
    },
    {
     "name": "stderr",
     "output_type": "stream",
     "text": [
      "/Users/gokul/opt/anaconda3/lib/python3.8/site-packages/sklearn/neighbors/_base.py:504: UserWarning: cannot use tree with sparse input: using brute force\n",
      "  warnings.warn(\"cannot use tree with sparse input: using brute force\")\n",
      "/Users/gokul/opt/anaconda3/lib/python3.8/site-packages/sklearn/neighbors/_base.py:504: UserWarning: cannot use tree with sparse input: using brute force\n",
      "  warnings.warn(\"cannot use tree with sparse input: using brute force\")\n",
      "/Users/gokul/opt/anaconda3/lib/python3.8/site-packages/sklearn/neighbors/_base.py:504: UserWarning: cannot use tree with sparse input: using brute force\n",
      "  warnings.warn(\"cannot use tree with sparse input: using brute force\")\n",
      "/Users/gokul/opt/anaconda3/lib/python3.8/site-packages/sklearn/neighbors/_base.py:504: UserWarning: cannot use tree with sparse input: using brute force\n",
      "  warnings.warn(\"cannot use tree with sparse input: using brute force\")\n",
      "/Users/gokul/opt/anaconda3/lib/python3.8/site-packages/sklearn/neighbors/_base.py:504: UserWarning: cannot use tree with sparse input: using brute force\n",
      "  warnings.warn(\"cannot use tree with sparse input: using brute force\")\n",
      "/Users/gokul/opt/anaconda3/lib/python3.8/site-packages/sklearn/neighbors/_base.py:504: UserWarning: cannot use tree with sparse input: using brute force\n",
      "  warnings.warn(\"cannot use tree with sparse input: using brute force\")\n",
      "/Users/gokul/opt/anaconda3/lib/python3.8/site-packages/sklearn/neighbors/_base.py:504: UserWarning: cannot use tree with sparse input: using brute force\n",
      "  warnings.warn(\"cannot use tree with sparse input: using brute force\")\n",
      "/Users/gokul/opt/anaconda3/lib/python3.8/site-packages/sklearn/neighbors/_base.py:504: UserWarning: cannot use tree with sparse input: using brute force\n",
      "  warnings.warn(\"cannot use tree with sparse input: using brute force\")\n",
      "/Users/gokul/opt/anaconda3/lib/python3.8/site-packages/sklearn/neighbors/_base.py:504: UserWarning: cannot use tree with sparse input: using brute force\n",
      "  warnings.warn(\"cannot use tree with sparse input: using brute force\")\n",
      "/Users/gokul/opt/anaconda3/lib/python3.8/site-packages/sklearn/neighbors/_base.py:504: UserWarning: cannot use tree with sparse input: using brute force\n",
      "  warnings.warn(\"cannot use tree with sparse input: using brute force\")\n",
      "/Users/gokul/opt/anaconda3/lib/python3.8/site-packages/sklearn/neighbors/_base.py:504: UserWarning: cannot use tree with sparse input: using brute force\n",
      "  warnings.warn(\"cannot use tree with sparse input: using brute force\")\n",
      "/Users/gokul/opt/anaconda3/lib/python3.8/site-packages/sklearn/neighbors/_base.py:504: UserWarning: cannot use tree with sparse input: using brute force\n",
      "  warnings.warn(\"cannot use tree with sparse input: using brute force\")\n",
      "/Users/gokul/opt/anaconda3/lib/python3.8/site-packages/sklearn/neighbors/_base.py:504: UserWarning: cannot use tree with sparse input: using brute force\n",
      "  warnings.warn(\"cannot use tree with sparse input: using brute force\")\n",
      "/Users/gokul/opt/anaconda3/lib/python3.8/site-packages/sklearn/neighbors/_base.py:504: UserWarning: cannot use tree with sparse input: using brute force\n",
      "  warnings.warn(\"cannot use tree with sparse input: using brute force\")\n",
      "/Users/gokul/opt/anaconda3/lib/python3.8/site-packages/sklearn/neighbors/_base.py:504: UserWarning: cannot use tree with sparse input: using brute force\n",
      "  warnings.warn(\"cannot use tree with sparse input: using brute force\")\n",
      "/Users/gokul/opt/anaconda3/lib/python3.8/site-packages/sklearn/neighbors/_base.py:504: UserWarning: cannot use tree with sparse input: using brute force\n",
      "  warnings.warn(\"cannot use tree with sparse input: using brute force\")\n",
      "/Users/gokul/opt/anaconda3/lib/python3.8/site-packages/sklearn/neighbors/_base.py:504: UserWarning: cannot use tree with sparse input: using brute force\n",
      "  warnings.warn(\"cannot use tree with sparse input: using brute force\")\n",
      "/Users/gokul/opt/anaconda3/lib/python3.8/site-packages/sklearn/neighbors/_base.py:504: UserWarning: cannot use tree with sparse input: using brute force\n",
      "  warnings.warn(\"cannot use tree with sparse input: using brute force\")\n",
      "/Users/gokul/opt/anaconda3/lib/python3.8/site-packages/sklearn/neighbors/_base.py:504: UserWarning: cannot use tree with sparse input: using brute force\n",
      "  warnings.warn(\"cannot use tree with sparse input: using brute force\")\n",
      "/Users/gokul/opt/anaconda3/lib/python3.8/site-packages/sklearn/neighbors/_base.py:504: UserWarning: cannot use tree with sparse input: using brute force\n",
      "  warnings.warn(\"cannot use tree with sparse input: using brute force\")\n",
      "/Users/gokul/opt/anaconda3/lib/python3.8/site-packages/sklearn/neighbors/_base.py:504: UserWarning: cannot use tree with sparse input: using brute force\n",
      "  warnings.warn(\"cannot use tree with sparse input: using brute force\")\n",
      "/Users/gokul/opt/anaconda3/lib/python3.8/site-packages/sklearn/neighbors/_base.py:504: UserWarning: cannot use tree with sparse input: using brute force\n",
      "  warnings.warn(\"cannot use tree with sparse input: using brute force\")\n",
      "/Users/gokul/opt/anaconda3/lib/python3.8/site-packages/sklearn/neighbors/_base.py:504: UserWarning: cannot use tree with sparse input: using brute force\n",
      "  warnings.warn(\"cannot use tree with sparse input: using brute force\")\n",
      "/Users/gokul/opt/anaconda3/lib/python3.8/site-packages/sklearn/neighbors/_base.py:504: UserWarning: cannot use tree with sparse input: using brute force\n",
      "  warnings.warn(\"cannot use tree with sparse input: using brute force\")\n",
      "/Users/gokul/opt/anaconda3/lib/python3.8/site-packages/sklearn/neighbors/_base.py:504: UserWarning: cannot use tree with sparse input: using brute force\n",
      "  warnings.warn(\"cannot use tree with sparse input: using brute force\")\n",
      "/Users/gokul/opt/anaconda3/lib/python3.8/site-packages/sklearn/neighbors/_base.py:504: UserWarning: cannot use tree with sparse input: using brute force\n",
      "  warnings.warn(\"cannot use tree with sparse input: using brute force\")\n",
      "/Users/gokul/opt/anaconda3/lib/python3.8/site-packages/sklearn/neighbors/_base.py:504: UserWarning: cannot use tree with sparse input: using brute force\n",
      "  warnings.warn(\"cannot use tree with sparse input: using brute force\")\n",
      "/Users/gokul/opt/anaconda3/lib/python3.8/site-packages/sklearn/neighbors/_base.py:504: UserWarning: cannot use tree with sparse input: using brute force\n",
      "  warnings.warn(\"cannot use tree with sparse input: using brute force\")\n",
      "/Users/gokul/opt/anaconda3/lib/python3.8/site-packages/sklearn/neighbors/_base.py:504: UserWarning: cannot use tree with sparse input: using brute force\n",
      "  warnings.warn(\"cannot use tree with sparse input: using brute force\")\n",
      "/Users/gokul/opt/anaconda3/lib/python3.8/site-packages/sklearn/neighbors/_base.py:504: UserWarning: cannot use tree with sparse input: using brute force\n",
      "  warnings.warn(\"cannot use tree with sparse input: using brute force\")\n",
      "/Users/gokul/opt/anaconda3/lib/python3.8/site-packages/sklearn/neighbors/_base.py:504: UserWarning: cannot use tree with sparse input: using brute force\n",
      "  warnings.warn(\"cannot use tree with sparse input: using brute force\")\n",
      "/Users/gokul/opt/anaconda3/lib/python3.8/site-packages/sklearn/neighbors/_base.py:504: UserWarning: cannot use tree with sparse input: using brute force\n",
      "  warnings.warn(\"cannot use tree with sparse input: using brute force\")\n",
      "/Users/gokul/opt/anaconda3/lib/python3.8/site-packages/sklearn/neighbors/_base.py:504: UserWarning: cannot use tree with sparse input: using brute force\n",
      "  warnings.warn(\"cannot use tree with sparse input: using brute force\")\n",
      "/Users/gokul/opt/anaconda3/lib/python3.8/site-packages/sklearn/neighbors/_base.py:504: UserWarning: cannot use tree with sparse input: using brute force\n",
      "  warnings.warn(\"cannot use tree with sparse input: using brute force\")\n",
      "/Users/gokul/opt/anaconda3/lib/python3.8/site-packages/sklearn/neighbors/_base.py:504: UserWarning: cannot use tree with sparse input: using brute force\n",
      "  warnings.warn(\"cannot use tree with sparse input: using brute force\")\n",
      "/Users/gokul/opt/anaconda3/lib/python3.8/site-packages/sklearn/neighbors/_base.py:504: UserWarning: cannot use tree with sparse input: using brute force\n",
      "  warnings.warn(\"cannot use tree with sparse input: using brute force\")\n",
      "/Users/gokul/opt/anaconda3/lib/python3.8/site-packages/sklearn/neighbors/_base.py:504: UserWarning: cannot use tree with sparse input: using brute force\n",
      "  warnings.warn(\"cannot use tree with sparse input: using brute force\")\n"
     ]
    },
    {
     "name": "stderr",
     "output_type": "stream",
     "text": [
      "/Users/gokul/opt/anaconda3/lib/python3.8/site-packages/sklearn/neighbors/_base.py:504: UserWarning: cannot use tree with sparse input: using brute force\n",
      "  warnings.warn(\"cannot use tree with sparse input: using brute force\")\n",
      "/Users/gokul/opt/anaconda3/lib/python3.8/site-packages/sklearn/neighbors/_base.py:504: UserWarning: cannot use tree with sparse input: using brute force\n",
      "  warnings.warn(\"cannot use tree with sparse input: using brute force\")\n",
      "/Users/gokul/opt/anaconda3/lib/python3.8/site-packages/sklearn/neighbors/_base.py:504: UserWarning: cannot use tree with sparse input: using brute force\n",
      "  warnings.warn(\"cannot use tree with sparse input: using brute force\")\n",
      "/Users/gokul/opt/anaconda3/lib/python3.8/site-packages/sklearn/neighbors/_base.py:504: UserWarning: cannot use tree with sparse input: using brute force\n",
      "  warnings.warn(\"cannot use tree with sparse input: using brute force\")\n",
      "/Users/gokul/opt/anaconda3/lib/python3.8/site-packages/sklearn/neighbors/_base.py:504: UserWarning: cannot use tree with sparse input: using brute force\n",
      "  warnings.warn(\"cannot use tree with sparse input: using brute force\")\n",
      "/Users/gokul/opt/anaconda3/lib/python3.8/site-packages/sklearn/neighbors/_base.py:504: UserWarning: cannot use tree with sparse input: using brute force\n",
      "  warnings.warn(\"cannot use tree with sparse input: using brute force\")\n",
      "/Users/gokul/opt/anaconda3/lib/python3.8/site-packages/sklearn/neighbors/_base.py:504: UserWarning: cannot use tree with sparse input: using brute force\n",
      "  warnings.warn(\"cannot use tree with sparse input: using brute force\")\n",
      "/Users/gokul/opt/anaconda3/lib/python3.8/site-packages/sklearn/neighbors/_base.py:504: UserWarning: cannot use tree with sparse input: using brute force\n",
      "  warnings.warn(\"cannot use tree with sparse input: using brute force\")\n",
      "/Users/gokul/opt/anaconda3/lib/python3.8/site-packages/sklearn/neighbors/_base.py:504: UserWarning: cannot use tree with sparse input: using brute force\n",
      "  warnings.warn(\"cannot use tree with sparse input: using brute force\")\n",
      "/Users/gokul/opt/anaconda3/lib/python3.8/site-packages/sklearn/neighbors/_base.py:504: UserWarning: cannot use tree with sparse input: using brute force\n",
      "  warnings.warn(\"cannot use tree with sparse input: using brute force\")\n",
      "/Users/gokul/opt/anaconda3/lib/python3.8/site-packages/sklearn/neighbors/_base.py:504: UserWarning: cannot use tree with sparse input: using brute force\n",
      "  warnings.warn(\"cannot use tree with sparse input: using brute force\")\n",
      "/Users/gokul/opt/anaconda3/lib/python3.8/site-packages/sklearn/neighbors/_base.py:504: UserWarning: cannot use tree with sparse input: using brute force\n",
      "  warnings.warn(\"cannot use tree with sparse input: using brute force\")\n",
      "/Users/gokul/opt/anaconda3/lib/python3.8/site-packages/sklearn/neighbors/_base.py:504: UserWarning: cannot use tree with sparse input: using brute force\n",
      "  warnings.warn(\"cannot use tree with sparse input: using brute force\")\n",
      "/Users/gokul/opt/anaconda3/lib/python3.8/site-packages/sklearn/neighbors/_base.py:504: UserWarning: cannot use tree with sparse input: using brute force\n",
      "  warnings.warn(\"cannot use tree with sparse input: using brute force\")\n",
      "/Users/gokul/opt/anaconda3/lib/python3.8/site-packages/sklearn/neighbors/_base.py:504: UserWarning: cannot use tree with sparse input: using brute force\n",
      "  warnings.warn(\"cannot use tree with sparse input: using brute force\")\n",
      "/Users/gokul/opt/anaconda3/lib/python3.8/site-packages/sklearn/neighbors/_base.py:504: UserWarning: cannot use tree with sparse input: using brute force\n",
      "  warnings.warn(\"cannot use tree with sparse input: using brute force\")\n",
      "/Users/gokul/opt/anaconda3/lib/python3.8/site-packages/sklearn/neighbors/_base.py:504: UserWarning: cannot use tree with sparse input: using brute force\n",
      "  warnings.warn(\"cannot use tree with sparse input: using brute force\")\n",
      "/Users/gokul/opt/anaconda3/lib/python3.8/site-packages/sklearn/neighbors/_base.py:504: UserWarning: cannot use tree with sparse input: using brute force\n",
      "  warnings.warn(\"cannot use tree with sparse input: using brute force\")\n",
      "/Users/gokul/opt/anaconda3/lib/python3.8/site-packages/sklearn/neighbors/_base.py:504: UserWarning: cannot use tree with sparse input: using brute force\n",
      "  warnings.warn(\"cannot use tree with sparse input: using brute force\")\n",
      "/Users/gokul/opt/anaconda3/lib/python3.8/site-packages/sklearn/neighbors/_base.py:504: UserWarning: cannot use tree with sparse input: using brute force\n",
      "  warnings.warn(\"cannot use tree with sparse input: using brute force\")\n",
      "/Users/gokul/opt/anaconda3/lib/python3.8/site-packages/sklearn/neighbors/_base.py:504: UserWarning: cannot use tree with sparse input: using brute force\n",
      "  warnings.warn(\"cannot use tree with sparse input: using brute force\")\n",
      "/Users/gokul/opt/anaconda3/lib/python3.8/site-packages/sklearn/neighbors/_base.py:504: UserWarning: cannot use tree with sparse input: using brute force\n",
      "  warnings.warn(\"cannot use tree with sparse input: using brute force\")\n",
      "/Users/gokul/opt/anaconda3/lib/python3.8/site-packages/sklearn/neighbors/_base.py:504: UserWarning: cannot use tree with sparse input: using brute force\n",
      "  warnings.warn(\"cannot use tree with sparse input: using brute force\")\n",
      "/Users/gokul/opt/anaconda3/lib/python3.8/site-packages/sklearn/neighbors/_base.py:504: UserWarning: cannot use tree with sparse input: using brute force\n",
      "  warnings.warn(\"cannot use tree with sparse input: using brute force\")\n",
      "/Users/gokul/opt/anaconda3/lib/python3.8/site-packages/sklearn/neighbors/_base.py:504: UserWarning: cannot use tree with sparse input: using brute force\n",
      "  warnings.warn(\"cannot use tree with sparse input: using brute force\")\n",
      "/Users/gokul/opt/anaconda3/lib/python3.8/site-packages/sklearn/neighbors/_base.py:504: UserWarning: cannot use tree with sparse input: using brute force\n",
      "  warnings.warn(\"cannot use tree with sparse input: using brute force\")\n",
      "/Users/gokul/opt/anaconda3/lib/python3.8/site-packages/sklearn/neighbors/_base.py:504: UserWarning: cannot use tree with sparse input: using brute force\n",
      "  warnings.warn(\"cannot use tree with sparse input: using brute force\")\n",
      "/Users/gokul/opt/anaconda3/lib/python3.8/site-packages/sklearn/neighbors/_base.py:504: UserWarning: cannot use tree with sparse input: using brute force\n",
      "  warnings.warn(\"cannot use tree with sparse input: using brute force\")\n",
      "/Users/gokul/opt/anaconda3/lib/python3.8/site-packages/sklearn/neighbors/_base.py:504: UserWarning: cannot use tree with sparse input: using brute force\n",
      "  warnings.warn(\"cannot use tree with sparse input: using brute force\")\n"
     ]
    },
    {
     "data": {
      "text/plain": [
       "GridSearchCV(estimator=Pipeline(steps=[('tfidf', TfidfVectorizer()),\n",
       "                                       ('clf', KNeighborsClassifier())]),\n",
       "             param_grid={'clf__algorithm': ['auto', 'ball_tree', 'kd_tree',\n",
       "                                            'brute'],\n",
       "                         'clf__n_neighbors': [3, 4, 5, 8, 10, 15, 20],\n",
       "                         'clf__weights': ['uniform', 'distance']},\n",
       "             verbose=1)"
      ]
     },
     "execution_count": 26,
     "metadata": {},
     "output_type": "execute_result"
    }
   ],
   "source": [
    "parameters = {\n",
    "    \"clf__n_neighbors\": [3, 4, 5, 8, 10, 15, 20],\n",
    "    \"clf__weights\": [\"uniform\", \"distance\"],\n",
    "    \"clf__algorithm\":[\"auto\", \"ball_tree\", \"kd_tree\", \"brute\"]\n",
    "}\n",
    "\n",
    "model = Pipeline([('tfidf', TfidfVectorizer()), ('clf', KNeighborsClassifier())])\n",
    "tuner = GridSearchCV(model, parameters, verbose = 1)\n",
    "tuner.fit(x_train, y_train)"
   ]
  },
  {
   "cell_type": "code",
   "execution_count": 27,
   "id": "26a5fd18",
   "metadata": {},
   "outputs": [
    {
     "data": {
      "text/plain": [
       "{'clf__algorithm': 'auto', 'clf__n_neighbors': 15, 'clf__weights': 'distance'}"
      ]
     },
     "execution_count": 27,
     "metadata": {},
     "output_type": "execute_result"
    }
   ],
   "source": [
    "tuner.best_params_"
   ]
  },
  {
   "cell_type": "code",
   "execution_count": 28,
   "id": "6e72ac45",
   "metadata": {},
   "outputs": [
    {
     "data": {
      "text/plain": [
       "Pipeline(steps=[('tfidf', TfidfVectorizer()),\n",
       "                ('clf',\n",
       "                 KNeighborsClassifier(n_neighbors=15, weights='distance'))])"
      ]
     },
     "execution_count": 28,
     "metadata": {},
     "output_type": "execute_result"
    }
   ],
   "source": [
    "opt_knn_model = Pipeline([('tfidf', TfidfVectorizer()), ('clf', KNeighborsClassifier(algorithm = 'auto', n_neighbors = 15, weights = 'distance'))])\n",
    "opt_knn_model.fit(x_train, y_train)"
   ]
  },
  {
   "cell_type": "code",
   "execution_count": 29,
   "id": "9bcaad17",
   "metadata": {},
   "outputs": [
    {
     "data": {
      "text/plain": [
       "(0.7731958762886598,\n",
       " 0.7886792452830189,\n",
       " 0.9425028184892897,\n",
       " 0.8587570621468927)"
      ]
     },
     "execution_count": 29,
     "metadata": {},
     "output_type": "execute_result"
    }
   ],
   "source": [
    "new_preds_knn = opt_knn_model.predict(x_test)\n",
    "get_stats(new_preds_knn, y_test)"
   ]
  },
  {
   "cell_type": "markdown",
   "id": "37d61384",
   "metadata": {},
   "source": [
    "# Model 2:\n",
    "\n",
    "## Can we determine the positive / negative sentiment of a Tweet? "
   ]
  },
  {
   "cell_type": "code",
   "execution_count": 6,
   "id": "cba61052",
   "metadata": {},
   "outputs": [
    {
     "data": {
      "text/html": [
       "<div>\n",
       "<style scoped>\n",
       "    .dataframe tbody tr th:only-of-type {\n",
       "        vertical-align: middle;\n",
       "    }\n",
       "\n",
       "    .dataframe tbody tr th {\n",
       "        vertical-align: top;\n",
       "    }\n",
       "\n",
       "    .dataframe thead th {\n",
       "        text-align: right;\n",
       "    }\n",
       "</style>\n",
       "<table border=\"1\" class=\"dataframe\">\n",
       "  <thead>\n",
       "    <tr style=\"text-align: right;\">\n",
       "      <th></th>\n",
       "      <th>text</th>\n",
       "      <th>score</th>\n",
       "    </tr>\n",
       "  </thead>\n",
       "  <tbody>\n",
       "    <tr>\n",
       "      <th>0</th>\n",
       "      <td>socialist tyrant maduro starves tortures peopl...</td>\n",
       "      <td>2.0</td>\n",
       "    </tr>\n",
       "    <tr>\n",
       "      <th>1</th>\n",
       "      <td>russia china india pakistan north korea iran m...</td>\n",
       "      <td>2.0</td>\n",
       "    </tr>\n",
       "    <tr>\n",
       "      <th>2</th>\n",
       "      <td>ileana roslehtinen ted yoho condemn chinas tre...</td>\n",
       "      <td>1.0</td>\n",
       "    </tr>\n",
       "    <tr>\n",
       "      <th>3</th>\n",
       "      <td>breaking oval office meeting today chinese com...</td>\n",
       "      <td>4.0</td>\n",
       "    </tr>\n",
       "    <tr>\n",
       "      <th>4</th>\n",
       "      <td>breaking oval office meeting today chinese com...</td>\n",
       "      <td>4.0</td>\n",
       "    </tr>\n",
       "  </tbody>\n",
       "</table>\n",
       "</div>"
      ],
      "text/plain": [
       "                                                text  score\n",
       "0  socialist tyrant maduro starves tortures peopl...    2.0\n",
       "1  russia china india pakistan north korea iran m...    2.0\n",
       "2  ileana roslehtinen ted yoho condemn chinas tre...    1.0\n",
       "3  breaking oval office meeting today chinese com...    4.0\n",
       "4  breaking oval office meeting today chinese com...    4.0"
      ]
     },
     "execution_count": 6,
     "metadata": {},
     "output_type": "execute_result"
    }
   ],
   "source": [
    "sub = df.dropna()\n",
    "sub = sub[['text', 'score']]\n",
    "sub.reset_index(drop = True, inplace = True)\n",
    "sub.head()"
   ]
  },
  {
   "cell_type": "code",
   "execution_count": 7,
   "id": "15ce638d",
   "metadata": {},
   "outputs": [],
   "source": [
    "x_train, x_test, y_train, y_test = train_test_split(sub[\"text\"], sub[\"score\"], test_size = 0.2)"
   ]
  },
  {
   "cell_type": "code",
   "execution_count": 8,
   "id": "54eb8505",
   "metadata": {},
   "outputs": [
    {
     "data": {
      "text/plain": [
       "Pipeline(steps=[('tfidf', TfidfVectorizer()), ('clf', KNeighborsRegressor())])"
      ]
     },
     "execution_count": 8,
     "metadata": {},
     "output_type": "execute_result"
    }
   ],
   "source": [
    "knn = Pipeline([('tfidf', TfidfVectorizer()), ('clf', KNeighborsRegressor())])\n",
    "knn.fit(x_train, y_train)"
   ]
  },
  {
   "cell_type": "code",
   "execution_count": 10,
   "id": "da73f10b",
   "metadata": {},
   "outputs": [
    {
     "data": {
      "text/plain": [
       "0.3592461197339246"
      ]
     },
     "execution_count": 10,
     "metadata": {},
     "output_type": "execute_result"
    }
   ],
   "source": [
    "from sklearn.metrics import mean_squared_error\n",
    "predicts = knn.predict(x_test)\n",
    "mse_untuned = mean_squared_error(predicts, y_test)\n",
    "mse_untuned"
   ]
  },
  {
   "cell_type": "code",
   "execution_count": 11,
   "id": "a23c7a40",
   "metadata": {},
   "outputs": [
    {
     "name": "stdout",
     "output_type": "stream",
     "text": [
      "Fitting 5 folds for each of 56 candidates, totalling 280 fits\n"
     ]
    },
    {
     "data": {
      "text/plain": [
       "GridSearchCV(estimator=Pipeline(steps=[('tfidf', TfidfVectorizer()),\n",
       "                                       ('clf', KNeighborsRegressor())]),\n",
       "             param_grid={'clf__algorithm': ['auto', 'ball_tree', 'kd_tree',\n",
       "                                            'brute'],\n",
       "                         'clf__n_neighbors': [3, 4, 5, 8, 10, 15, 20],\n",
       "                         'clf__weights': ['uniform', 'distance']},\n",
       "             verbose=1)"
      ]
     },
     "execution_count": 11,
     "metadata": {},
     "output_type": "execute_result"
    }
   ],
   "source": [
    "parameters = {\n",
    "    \"clf__n_neighbors\": [3, 4, 5, 8, 10, 15, 20],\n",
    "    \"clf__weights\": [\"uniform\", \"distance\"],\n",
    "    \"clf__algorithm\":[\"auto\", \"ball_tree\", \"kd_tree\", \"brute\"]\n",
    "}\n",
    "\n",
    "model = Pipeline([('tfidf', TfidfVectorizer()), ('clf', KNeighborsRegressor())])\n",
    "tuner = GridSearchCV(model, parameters, verbose = 1)\n",
    "tuner.fit(x_train, y_train)"
   ]
  },
  {
   "cell_type": "code",
   "execution_count": 12,
   "id": "59fb9734",
   "metadata": {},
   "outputs": [
    {
     "data": {
      "text/plain": [
       "{'clf__algorithm': 'auto', 'clf__n_neighbors': 20, 'clf__weights': 'distance'}"
      ]
     },
     "execution_count": 12,
     "metadata": {},
     "output_type": "execute_result"
    }
   ],
   "source": [
    "tuner.best_params_"
   ]
  },
  {
   "cell_type": "code",
   "execution_count": 13,
   "id": "1a3a3d68",
   "metadata": {},
   "outputs": [
    {
     "data": {
      "text/plain": [
       "0.3592461197339246"
      ]
     },
     "execution_count": 13,
     "metadata": {},
     "output_type": "execute_result"
    }
   ],
   "source": [
    "opt_knn_model = Pipeline([('tfidf', TfidfVectorizer()), ('clf', KNeighborsClassifier(algorithm = 'auto', n_neighbors = 20, weights = 'distance'))])\n",
    "opt_knn_model.fit(x_train, y_train)\n",
    "new_predicts = opt_knn_model.predict(x_test)\n",
    "mse_tuned = mean_squared_error(new_predicts, y_test)\n",
    "mse_untuned"
   ]
  },
  {
   "cell_type": "code",
   "execution_count": null,
   "id": "e081f63e",
   "metadata": {},
   "outputs": [],
   "source": []
  }
 ],
 "metadata": {
  "kernelspec": {
   "display_name": "Python 3 (ipykernel)",
   "language": "python",
   "name": "python3"
  },
  "language_info": {
   "codemirror_mode": {
    "name": "ipython",
    "version": 3
   },
   "file_extension": ".py",
   "mimetype": "text/x-python",
   "name": "python",
   "nbconvert_exporter": "python",
   "pygments_lexer": "ipython3",
   "version": "3.8.2"
  }
 },
 "nbformat": 4,
 "nbformat_minor": 5
}
